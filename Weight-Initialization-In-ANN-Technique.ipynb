{
  "cells": [
    {
      "cell_type": "code",
      "source": [
        "'''\n",
        "Name   : Rupesh Garsondia\n",
        "github : @Rupeshgarsondiya\n",
        "Topic  : weight Initalization technique in Artifical Neural Network in Deep Learning(DL)\n",
        "'''"
      ],
      "metadata": {
        "id": "M0eLMdHmLnB3",
        "outputId": "c1869afe-a8aa-44e2-d46e-2edc4c34dfb0",
        "colab": {
          "base_uri": "https://localhost:8080/",
          "height": 35
        }
      },
      "execution_count": 1,
      "outputs": [
        {
          "output_type": "execute_result",
          "data": {
            "text/plain": [
              "'\\nName   : Rupesh Garsondia\\ngithub : @Rupeshgarsondiya\\nTopic  : weight Initalization technique in Artifical Neural Network in Deep Learning(DL)\\n'"
            ],
            "application/vnd.google.colaboratory.intrinsic+json": {
              "type": "string"
            }
          },
          "metadata": {},
          "execution_count": 1
        }
      ]
    },
    {
      "cell_type": "markdown",
      "source": [
        "# Weight Initailization Technique (ANN)\n",
        "Problem: Improper weight initialization can lead to two major issues in neural networks:\n",
        "\n",
        "1. Vanishing Gradient Problem: Gradients become very small, slowing down learning or stopping it altogether.\n",
        "2. Exploding Gradient Problem: Gradients grow uncontrollably, leading to instability in the learning process.\n",
        "\n",
        "\n",
        "Terminology\n",
        "\n",
        "1. Fan_in: The number of input connections to a layer.\n",
        "2. Fan_out: The number of output connections from a layer.\n",
        "3. Fan_avg: The average of fan_in and fan_out, calculated as:\n",
        "    Fan_avg=Fan_in+Fan_out/2\n",
        "\n",
        "There are three main weight initialization techniques. Let’s understand them one by one:\n",
        "\n",
        "1. **Xavier-Glorat Technique**\n",
        "2. **He Inialization**\n",
        "3. **LeCun Inialization (Invented by yan Lecun)**\n",
        "\n",
        "1. **Xavier-Glorat Technique**\n",
        "- nvented by: Xavier Glorot and Yoshua Bengio (2010).\n",
        "- Purpose: Ensures that the variance of activations remains stable across layers.\n",
        "- Best suited for: Activation functions like sigmoid and tanh.\n",
        "\n",
        "Formulas:\n",
        "      \n",
        "       SD = sqrt(1/fan_avg)\n",
        "\n",
        "Mean (μμ) = 0, Standard Deviation (σσ) as above.\n",
        "\n",
        "For Uniform Distribution:\n",
        "\n",
        "       r = sqrt(3/fan_avg)\n",
        "\n",
        "where weights are initialized uniformly in the range [−r,r][−r,r].\n",
        "\n",
        "\n",
        "2. **He Inialization**\n",
        "\n",
        "For , normal distribution mean = 0\n",
        "   \n",
        "       SD = sqrt(2/fan_in)\n",
        "\n",
        "For Uniform distribution between -r to r\n",
        "\n",
        "       where r = sqrt(6/fan_in)\n",
        "\n",
        "3. **LeCun Inialization (Invented by yan Lecun)**\n",
        "\n",
        "For Normal Distributtion mean = 0 and SD\n",
        "   \n",
        "      SD = sqrt(1/fan_in)\n",
        "\n",
        "\n",
        "\n",
        "**Important Table :**\n",
        "\n",
        "\n",
        "\n",
        "  ![Screenshot from 2024-12-10 17-01-56.png](data:image/png;base64,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)\n",
        "\n",
        "**Image Refrance :** Hands-On-Machine-Learning Book (Third edition)\n",
        "\n",
        "\" If you want to understand this topic more deeply, be sure to watch the video linked below and read the research paper.\"\n",
        "\n",
        "**Video link :** https://www.youtube.com/watch?v=nwVOSgcrbQIlist=PLKnIA16_RmvYuZauWaPlRTC54KxSNLtNn&index=30\n",
        "\n",
        "\n"
      ],
      "metadata": {
        "id": "5cv24b0OMBUn"
      }
    },
    {
      "cell_type": "code",
      "source": [
        "# Now let's understand with code example with keras implementation\n",
        "import pandas as pd\n",
        "from sklearn.model_selection import train_test_split\n",
        "import tensorflow as tf\n",
        "from tensorflow import keras\n",
        "from sklearn.datasets import load_breast_cancer\n",
        "from tensorflow.keras.models import Sequential\n",
        "from tensorflow.keras.layers import Dense\n",
        "import matplotlib.pyplot as plt\n"
      ],
      "metadata": {
        "id": "x7IYtFT1XgjI"
      },
      "execution_count": 21,
      "outputs": []
    },
    {
      "cell_type": "code",
      "source": [
        "# Load the dataset\n",
        "X,y = load_breast_cancer(return_X_y=True)\n",
        "print('X shape : ',X.shape)\n",
        "print('y shape : ',y.shape)\n",
        "\n",
        "print()\n",
        "# Split data into train,testing\n",
        "X_train,X_test,y_train,y_test = train_test_split(X,y,test_size=0.2,random_state=42)\n",
        "print('X_train shape : ',X_train.shape)\n",
        "print('y_train shape : ',y_train.shape)\n",
        "print('X_test shape : ',X_test.shape)\n",
        "print('y_test shape : ',y_test.shape)"
      ],
      "metadata": {
        "id": "7G7FW9jbSxBQ",
        "outputId": "8ec0b9d1-aabe-413b-cafa-b13d2e11b8e7",
        "colab": {
          "base_uri": "https://localhost:8080/"
        }
      },
      "execution_count": 22,
      "outputs": [
        {
          "output_type": "stream",
          "name": "stdout",
          "text": [
            "X shape :  (569, 30)\n",
            "y shape :  (569,)\n",
            "\n",
            "X_train shape :  (455, 30)\n",
            "y_train shape :  (455,)\n",
            "X_test shape :  (114, 30)\n",
            "y_test shape :  (114,)\n"
          ]
        }
      ]
    },
    {
      "cell_type": "code",
      "source": [
        "from re import VERBOSE\n",
        "# Design the neural network\n",
        "# This is example of a Xavier-Glorat technique beacuse in keras default kernal initiallizer is Xavier and Glorat\n",
        "model = Sequential()\n",
        "model.add(Dense(50,activation='relu',input_dim = X_train.shape[1]))\n",
        "model.add(Dense(25,activation='relu'))\n",
        "model.add(Dense(10,activation='relu'))\n",
        "model.add(Dense(5,activation='relu'))\n",
        "model.add(Dense(3,activation='relu'))\n",
        "model.add(Dense(2,activation='relu'))\n",
        "model.add(Dense(1,activation='sigmoid'))\n",
        "\n",
        "model.compile(loss='mean_squared_error',optimizer='adam',metrics=['accuracy'])\n",
        "model.summary()\n",
        "\n",
        "hisory = model.fit(X_train,y_train,epochs=100,batch_size=32,validation_data=(X_test,y_test),verbose=False)\n",
        "print('----- Modelweight without any weight inializationb -----')\n",
        "print(model.get_weights())\n",
        "\n",
        "plt.plot(hisory.history['accuracy'],label='accuracy')\n",
        "plt.plot(hisory.history['val_accuracy'],label='val_accuracy')\n",
        "plt.legend()\n",
        "plt.show()"
      ],
      "metadata": {
        "id": "wGNqFcFvL9bL",
        "outputId": "6fc7f82a-b8e5-4438-da2b-a63933392497",
        "colab": {
          "base_uri": "https://localhost:8080/",
          "height": 1000
        }
      },
      "execution_count": 26,
      "outputs": [
        {
          "output_type": "display_data",
          "data": {
            "text/plain": [
              "\u001b[1mModel: \"sequential_12\"\u001b[0m\n"
            ],
            "text/html": [
              "<pre style=\"white-space:pre;overflow-x:auto;line-height:normal;font-family:Menlo,'DejaVu Sans Mono',consolas,'Courier New',monospace\"><span style=\"font-weight: bold\">Model: \"sequential_12\"</span>\n",
              "</pre>\n"
            ]
          },
          "metadata": {}
        },
        {
          "output_type": "display_data",
          "data": {
            "text/plain": [
              "┏━━━━━━━━━━━━━━━━━━━━━━━━━━━━━━━━━━━━━━┳━━━━━━━━━━━━━━━━━━━━━━━━━━━━━┳━━━━━━━━━━━━━━━━━┓\n",
              "┃\u001b[1m \u001b[0m\u001b[1mLayer (type)                        \u001b[0m\u001b[1m \u001b[0m┃\u001b[1m \u001b[0m\u001b[1mOutput Shape               \u001b[0m\u001b[1m \u001b[0m┃\u001b[1m \u001b[0m\u001b[1m        Param #\u001b[0m\u001b[1m \u001b[0m┃\n",
              "┡━━━━━━━━━━━━━━━━━━━━━━━━━━━━━━━━━━━━━━╇━━━━━━━━━━━━━━━━━━━━━━━━━━━━━╇━━━━━━━━━━━━━━━━━┩\n",
              "│ dense_66 (\u001b[38;5;33mDense\u001b[0m)                     │ (\u001b[38;5;45mNone\u001b[0m, \u001b[38;5;34m50\u001b[0m)                  │           \u001b[38;5;34m1,550\u001b[0m │\n",
              "├──────────────────────────────────────┼─────────────────────────────┼─────────────────┤\n",
              "│ dense_67 (\u001b[38;5;33mDense\u001b[0m)                     │ (\u001b[38;5;45mNone\u001b[0m, \u001b[38;5;34m25\u001b[0m)                  │           \u001b[38;5;34m1,275\u001b[0m │\n",
              "├──────────────────────────────────────┼─────────────────────────────┼─────────────────┤\n",
              "│ dense_68 (\u001b[38;5;33mDense\u001b[0m)                     │ (\u001b[38;5;45mNone\u001b[0m, \u001b[38;5;34m10\u001b[0m)                  │             \u001b[38;5;34m260\u001b[0m │\n",
              "├──────────────────────────────────────┼─────────────────────────────┼─────────────────┤\n",
              "│ dense_69 (\u001b[38;5;33mDense\u001b[0m)                     │ (\u001b[38;5;45mNone\u001b[0m, \u001b[38;5;34m5\u001b[0m)                   │              \u001b[38;5;34m55\u001b[0m │\n",
              "├──────────────────────────────────────┼─────────────────────────────┼─────────────────┤\n",
              "│ dense_70 (\u001b[38;5;33mDense\u001b[0m)                     │ (\u001b[38;5;45mNone\u001b[0m, \u001b[38;5;34m3\u001b[0m)                   │              \u001b[38;5;34m18\u001b[0m │\n",
              "├──────────────────────────────────────┼─────────────────────────────┼─────────────────┤\n",
              "│ dense_71 (\u001b[38;5;33mDense\u001b[0m)                     │ (\u001b[38;5;45mNone\u001b[0m, \u001b[38;5;34m2\u001b[0m)                   │               \u001b[38;5;34m8\u001b[0m │\n",
              "├──────────────────────────────────────┼─────────────────────────────┼─────────────────┤\n",
              "│ dense_72 (\u001b[38;5;33mDense\u001b[0m)                     │ (\u001b[38;5;45mNone\u001b[0m, \u001b[38;5;34m1\u001b[0m)                   │               \u001b[38;5;34m3\u001b[0m │\n",
              "└──────────────────────────────────────┴─────────────────────────────┴─────────────────┘\n"
            ],
            "text/html": [
              "<pre style=\"white-space:pre;overflow-x:auto;line-height:normal;font-family:Menlo,'DejaVu Sans Mono',consolas,'Courier New',monospace\">┏━━━━━━━━━━━━━━━━━━━━━━━━━━━━━━━━━━━━━━┳━━━━━━━━━━━━━━━━━━━━━━━━━━━━━┳━━━━━━━━━━━━━━━━━┓\n",
              "┃<span style=\"font-weight: bold\"> Layer (type)                         </span>┃<span style=\"font-weight: bold\"> Output Shape                </span>┃<span style=\"font-weight: bold\">         Param # </span>┃\n",
              "┡━━━━━━━━━━━━━━━━━━━━━━━━━━━━━━━━━━━━━━╇━━━━━━━━━━━━━━━━━━━━━━━━━━━━━╇━━━━━━━━━━━━━━━━━┩\n",
              "│ dense_66 (<span style=\"color: #0087ff; text-decoration-color: #0087ff\">Dense</span>)                     │ (<span style=\"color: #00d7ff; text-decoration-color: #00d7ff\">None</span>, <span style=\"color: #00af00; text-decoration-color: #00af00\">50</span>)                  │           <span style=\"color: #00af00; text-decoration-color: #00af00\">1,550</span> │\n",
              "├──────────────────────────────────────┼─────────────────────────────┼─────────────────┤\n",
              "│ dense_67 (<span style=\"color: #0087ff; text-decoration-color: #0087ff\">Dense</span>)                     │ (<span style=\"color: #00d7ff; text-decoration-color: #00d7ff\">None</span>, <span style=\"color: #00af00; text-decoration-color: #00af00\">25</span>)                  │           <span style=\"color: #00af00; text-decoration-color: #00af00\">1,275</span> │\n",
              "├──────────────────────────────────────┼─────────────────────────────┼─────────────────┤\n",
              "│ dense_68 (<span style=\"color: #0087ff; text-decoration-color: #0087ff\">Dense</span>)                     │ (<span style=\"color: #00d7ff; text-decoration-color: #00d7ff\">None</span>, <span style=\"color: #00af00; text-decoration-color: #00af00\">10</span>)                  │             <span style=\"color: #00af00; text-decoration-color: #00af00\">260</span> │\n",
              "├──────────────────────────────────────┼─────────────────────────────┼─────────────────┤\n",
              "│ dense_69 (<span style=\"color: #0087ff; text-decoration-color: #0087ff\">Dense</span>)                     │ (<span style=\"color: #00d7ff; text-decoration-color: #00d7ff\">None</span>, <span style=\"color: #00af00; text-decoration-color: #00af00\">5</span>)                   │              <span style=\"color: #00af00; text-decoration-color: #00af00\">55</span> │\n",
              "├──────────────────────────────────────┼─────────────────────────────┼─────────────────┤\n",
              "│ dense_70 (<span style=\"color: #0087ff; text-decoration-color: #0087ff\">Dense</span>)                     │ (<span style=\"color: #00d7ff; text-decoration-color: #00d7ff\">None</span>, <span style=\"color: #00af00; text-decoration-color: #00af00\">3</span>)                   │              <span style=\"color: #00af00; text-decoration-color: #00af00\">18</span> │\n",
              "├──────────────────────────────────────┼─────────────────────────────┼─────────────────┤\n",
              "│ dense_71 (<span style=\"color: #0087ff; text-decoration-color: #0087ff\">Dense</span>)                     │ (<span style=\"color: #00d7ff; text-decoration-color: #00d7ff\">None</span>, <span style=\"color: #00af00; text-decoration-color: #00af00\">2</span>)                   │               <span style=\"color: #00af00; text-decoration-color: #00af00\">8</span> │\n",
              "├──────────────────────────────────────┼─────────────────────────────┼─────────────────┤\n",
              "│ dense_72 (<span style=\"color: #0087ff; text-decoration-color: #0087ff\">Dense</span>)                     │ (<span style=\"color: #00d7ff; text-decoration-color: #00d7ff\">None</span>, <span style=\"color: #00af00; text-decoration-color: #00af00\">1</span>)                   │               <span style=\"color: #00af00; text-decoration-color: #00af00\">3</span> │\n",
              "└──────────────────────────────────────┴─────────────────────────────┴─────────────────┘\n",
              "</pre>\n"
            ]
          },
          "metadata": {}
        },
        {
          "output_type": "display_data",
          "data": {
            "text/plain": [
              "\u001b[1m Total params: \u001b[0m\u001b[38;5;34m3,169\u001b[0m (12.38 KB)\n"
            ],
            "text/html": [
              "<pre style=\"white-space:pre;overflow-x:auto;line-height:normal;font-family:Menlo,'DejaVu Sans Mono',consolas,'Courier New',monospace\"><span style=\"font-weight: bold\"> Total params: </span><span style=\"color: #00af00; text-decoration-color: #00af00\">3,169</span> (12.38 KB)\n",
              "</pre>\n"
            ]
          },
          "metadata": {}
        },
        {
          "output_type": "display_data",
          "data": {
            "text/plain": [
              "\u001b[1m Trainable params: \u001b[0m\u001b[38;5;34m3,169\u001b[0m (12.38 KB)\n"
            ],
            "text/html": [
              "<pre style=\"white-space:pre;overflow-x:auto;line-height:normal;font-family:Menlo,'DejaVu Sans Mono',consolas,'Courier New',monospace\"><span style=\"font-weight: bold\"> Trainable params: </span><span style=\"color: #00af00; text-decoration-color: #00af00\">3,169</span> (12.38 KB)\n",
              "</pre>\n"
            ]
          },
          "metadata": {}
        },
        {
          "output_type": "display_data",
          "data": {
            "text/plain": [
              "\u001b[1m Non-trainable params: \u001b[0m\u001b[38;5;34m0\u001b[0m (0.00 B)\n"
            ],
            "text/html": [
              "<pre style=\"white-space:pre;overflow-x:auto;line-height:normal;font-family:Menlo,'DejaVu Sans Mono',consolas,'Courier New',monospace\"><span style=\"font-weight: bold\"> Non-trainable params: </span><span style=\"color: #00af00; text-decoration-color: #00af00\">0</span> (0.00 B)\n",
              "</pre>\n"
            ]
          },
          "metadata": {}
        },
        {
          "output_type": "stream",
          "name": "stdout",
          "text": [
            "----- Modelweight without any weight inializationb -----\n",
            "[array([[ 0.24151197,  0.16064723,  0.03887979, ...,  0.16995   ,\n",
            "        -0.01070051, -0.0199596 ],\n",
            "       [ 0.12530926,  0.24760376, -0.04403018, ...,  0.18048115,\n",
            "        -0.26823053, -0.0510329 ],\n",
            "       [ 0.17229997, -0.18853131, -0.2618677 , ..., -0.2737274 ,\n",
            "         0.24022469, -0.11915492],\n",
            "       ...,\n",
            "       [-0.15982142, -0.05616759,  0.15033157, ...,  0.07079986,\n",
            "        -0.11735085,  0.03594643],\n",
            "       [ 0.07995784, -0.13484001, -0.16255908, ..., -0.12406345,\n",
            "         0.2666529 , -0.13562575],\n",
            "       [-0.01671211, -0.04369436,  0.02987057, ...,  0.10074233,\n",
            "         0.26394135, -0.08498213]], dtype=float32), array([ 0.09866002,  0.00662478, -0.15828003,  0.        ,  0.        ,\n",
            "        0.13176642,  0.        , -0.10762605,  0.00350968,  0.        ,\n",
            "        0.16012524,  0.        , -0.00578785, -0.0640063 ,  0.        ,\n",
            "        0.        ,  0.15231675,  0.08791675, -0.03710872,  0.10290723,\n",
            "       -0.13443516,  0.        , -0.17971766, -0.00121875, -0.1401195 ,\n",
            "       -0.15694866,  0.        , -0.01146976,  0.        ,  0.        ,\n",
            "       -0.04034412,  0.        , -0.00026693,  0.        ,  0.        ,\n",
            "        0.        ,  0.1267072 ,  0.        ,  0.        ,  0.        ,\n",
            "       -0.13850546,  0.        ,  0.09891385, -0.09706151, -0.0076628 ,\n",
            "        0.        ,  0.20532954, -0.00939782, -0.05567619,  0.        ],\n",
            "      dtype=float32), array([[ 0.2773405 ,  0.11696926, -0.22585063, ..., -0.248717  ,\n",
            "         0.03871226,  0.02156672],\n",
            "       [ 0.20008627,  0.18900159,  0.19151814, ..., -0.09335224,\n",
            "        -0.2671246 , -0.10830526],\n",
            "       [ 0.13677779,  0.01365691, -0.00635933, ..., -0.08211157,\n",
            "        -0.24507645,  0.07804039],\n",
            "       ...,\n",
            "       [ 0.11036411,  0.22469403, -0.192284  , ...,  0.1900065 ,\n",
            "        -0.16851774, -0.19183823],\n",
            "       [ 0.1217176 , -0.02055003, -0.01861518, ..., -0.16996193,\n",
            "        -0.0664929 , -0.02756891],\n",
            "       [ 0.24424943, -0.12744385, -0.1179544 , ...,  0.18187034,\n",
            "        -0.00396174, -0.05008826]], dtype=float32), array([ 0.        ,  0.15323627, -0.06023424,  0.        ,  0.07462998,\n",
            "       -0.14777352,  0.        ,  0.07485858,  0.13263735,  0.05916188,\n",
            "        0.        , -0.10042527,  0.        ,  0.        ,  0.        ,\n",
            "       -0.08143908, -0.00485841, -0.09341162, -0.12453484, -0.0907799 ,\n",
            "       -0.00114122,  0.00986325,  0.        ,  0.        ,  0.        ],\n",
            "      dtype=float32), array([[-0.19247031, -0.1777717 ,  0.08325842, -0.11825642, -0.40574357,\n",
            "        -0.12435681, -0.03325135,  0.1349068 ,  0.26241872,  0.32941523],\n",
            "       [-0.0470562 , -0.24405938,  0.1134543 , -0.3023642 ,  0.22840197,\n",
            "         0.23252371,  0.10411724,  0.21965882,  0.1250161 , -0.17963554],\n",
            "       [-0.1548076 , -0.36953962,  0.1673384 ,  0.18619299, -0.11687625,\n",
            "        -0.32414246,  0.20496729, -0.03333032, -0.18084669, -0.08168092],\n",
            "       [-0.24671097, -0.12590265, -0.11915928,  0.17435202,  0.20632681,\n",
            "         0.31155494,  0.40067306, -0.32141063, -0.10301262, -0.34915608],\n",
            "       [-0.1751373 , -0.20759906,  0.17433962,  0.02677355,  0.19224438,\n",
            "        -0.3177738 ,  0.21657267, -0.29349145,  0.16096534, -0.358147  ],\n",
            "       [-0.3009597 , -0.27288604,  0.14102258, -0.00387767, -0.26573202,\n",
            "         0.36637565, -0.16191626,  0.19565573,  0.2892918 ,  0.3791847 ],\n",
            "       [-0.29637343,  0.14889303,  0.2330468 ,  0.0897707 , -0.01930711,\n",
            "         0.33736745, -0.19217476,  0.34569868,  0.13181952,  0.22498623],\n",
            "       [ 0.30522558, -0.21052392,  0.20321068,  0.03570397,  0.39254937,\n",
            "        -0.39454883, -0.40974674, -0.21331333,  0.11762826,  0.27350935],\n",
            "       [ 0.40799615,  0.37669224, -0.03740423, -0.09426597,  0.31254536,\n",
            "        -0.16507196,  0.27751055,  0.02347365, -0.08374211, -0.24932162],\n",
            "       [-0.19114369,  0.2856679 , -0.1781643 ,  0.04749664,  0.21772684,\n",
            "         0.07934025, -0.36023816,  0.18124065, -0.24745567,  0.1633889 ],\n",
            "       [-0.20704159,  0.14596674, -0.03111783, -0.27152714,  0.29026684,\n",
            "        -0.36353296,  0.27377066,  0.31734642,  0.3591995 , -0.3243473 ],\n",
            "       [ 0.09931079,  0.22677374, -0.35898116, -0.2633628 , -0.27998388,\n",
            "        -0.18497935,  0.0486224 ,  0.3473656 ,  0.3343321 , -0.10100435],\n",
            "       [-0.12848693, -0.26405987, -0.13174173, -0.09894094, -0.05937451,\n",
            "         0.06559807, -0.34166008,  0.37709787,  0.18745336, -0.10058066],\n",
            "       [-0.01531202, -0.30352056, -0.2836743 , -0.00057065,  0.16049495,\n",
            "         0.20420918, -0.0085932 ,  0.04617202, -0.21668503, -0.32486436],\n",
            "       [-0.3601747 , -0.02412289,  0.40919396,  0.16815701,  0.01402766,\n",
            "         0.41356096,  0.41055688, -0.27890855, -0.2977652 ,  0.18183956],\n",
            "       [-0.3989507 ,  0.34770817, -0.32215613, -0.20096718, -0.3323218 ,\n",
            "         0.11179587, -0.33464786,  0.21093777, -0.31670764,  0.31741953],\n",
            "       [ 0.16513225,  0.3853412 , -0.0028113 ,  0.08912167,  0.15898688,\n",
            "         0.21111289, -0.19821936, -0.28287005, -0.38188007, -0.2931317 ],\n",
            "       [ 0.09292701, -0.21090683,  0.21265326,  0.39331883, -0.2694045 ,\n",
            "        -0.04054675, -0.1726412 , -0.25264934, -0.19149172,  0.14047125],\n",
            "       [ 0.09334353,  0.13497207,  0.09487867, -0.03800762, -0.37843165,\n",
            "        -0.271554  , -0.15703431, -0.3086245 ,  0.02120421,  0.2605129 ],\n",
            "       [-0.36914292, -0.15475817,  0.0935915 , -0.02810209, -0.20027186,\n",
            "         0.39762267, -0.00345668, -0.07218519, -0.25548798,  0.05292749],\n",
            "       [-0.15390152, -0.08110732, -0.08729995, -0.35012287,  0.2275249 ,\n",
            "        -0.2579885 , -0.2287209 ,  0.3845515 , -0.07727161, -0.04050184],\n",
            "       [-0.02720141,  0.06227574,  0.184572  , -0.12952006,  0.16359097,\n",
            "        -0.30128223,  0.09068194,  0.33081803,  0.12860934, -0.19114543],\n",
            "       [-0.29614627, -0.14660156, -0.18099621,  0.35786703, -0.29328108,\n",
            "         0.26743385, -0.18939783, -0.07971713,  0.13208267, -0.03528211],\n",
            "       [ 0.10151914, -0.24863116, -0.3459658 , -0.23701896,  0.22674969,\n",
            "         0.39260283,  0.39205799, -0.3973991 , -0.20590736,  0.30050752],\n",
            "       [ 0.17894337,  0.04601881,  0.25629607, -0.19731562,  0.30657193,\n",
            "        -0.35654122,  0.07266593, -0.06118828,  0.3780761 , -0.00118044]],\n",
            "      dtype=float32), array([ 0.        , -0.00579751, -0.04987256, -0.00932612,  0.09516245,\n",
            "        0.        ,  0.        ,  0.        , -0.02107332, -0.02189509],\n",
            "      dtype=float32), array([[-0.37137768,  0.48575538, -0.5929168 ,  0.39568955,  0.41434854],\n",
            "       [-0.5938623 , -0.04992598,  0.52413064, -0.49362004,  0.37374187],\n",
            "       [ 0.20092258,  0.29308262, -0.36963445,  0.12902597, -0.10634317],\n",
            "       [ 0.3593112 ,  0.13864022, -0.2002157 , -0.2050806 , -0.46912464],\n",
            "       [-0.6058009 , -0.47688732,  0.13378565,  0.42662495,  0.3971145 ],\n",
            "       [ 0.49646348,  0.0337733 , -0.6252718 ,  0.18718845,  0.19265693],\n",
            "       [ 0.0627057 ,  0.62184757, -0.5055114 , -0.52328074, -0.16218233],\n",
            "       [-0.5931302 ,  0.26628035, -0.5409303 , -0.52049804, -0.5954594 ],\n",
            "       [ 0.17558149, -0.3387832 ,  0.59982497,  0.27165258, -0.5803628 ],\n",
            "       [ 0.11215995, -0.45427692,  0.5322862 ,  0.46026912, -0.00998662]],\n",
            "      dtype=float32), array([-0.06272849, -0.07457193,  0.01088698, -0.10464092,  0.10690916],\n",
            "      dtype=float32), array([[-0.39544284, -0.20170839,  0.49591044],\n",
            "       [-0.6730054 ,  0.22480261,  0.43598294],\n",
            "       [ 0.03011101,  0.39242947, -0.37499532],\n",
            "       [ 0.05914273,  0.01696585,  0.15616441],\n",
            "       [ 0.55673075,  0.56625324, -0.76923025]], dtype=float32), array([-0.05068545,  0.07153434, -0.09353422], dtype=float32), array([[ 0.8800689 , -0.7677294 ],\n",
            "       [-1.0573498 ,  0.47952208],\n",
            "       [ 0.9758162 , -0.48870128]], dtype=float32), array([-0.15784104, -0.05207519], dtype=float32), array([[-0.16281216],\n",
            "       [-1.2223779 ]], dtype=float32), array([1.1164585], dtype=float32)]\n"
          ]
        },
        {
          "output_type": "display_data",
          "data": {
            "text/plain": [
              "<Figure size 640x480 with 1 Axes>"
            ],
            "image/png": "[encoded data removed]"
          },
          "metadata": {}
        }
      ]
    },
    {
      "cell_type": "code",
      "source": [
        "from re import VERBOSE\n",
        "# Design the neural network  with kernal initalization\n",
        "\n",
        "model1 = Sequential()\n",
        "model1.add(Dense(50,activation='relu',input_dim = X_train.shape[1],kernel_initializer = \"he_uniform\"))\n",
        "model1.add(Dense(25,activation='relu',kernel_initializer = \"he_uniform\"))\n",
        "model1.add(Dense(10,activation='relu',kernel_initializer = \"he_uniform\"))\n",
        "model1.add(Dense(5,activation='relu',kernel_initializer = \"he_uniform\"))\n",
        "model1.add(Dense(3,activation='relu',kernel_initializer = \"he_uniform\"))\n",
        "model1.add(Dense(2,activation='relu',kernel_initializer = \"he_uniform\"))\n",
        "model1.add(Dense(1,activation='sigmoid'))\n",
        "\n",
        "model1.compile(loss='mean_squared_error',optimizer='adam',metrics=['accuracy'])\n",
        "model1.summary()\n",
        "\n",
        "hisory1 = model1.fit(X_train,y_train,epochs=100,batch_size=32,validation_data=(X_test,y_test),verbose=False)\n",
        "print('----- Modelweight without any weight inializationb -----')\n",
        "print(model.get_weights())\n",
        "\n",
        "plt.plot(hisory1.history['accuracy'],label='accuracy')\n",
        "plt.plot(hisory1.history['val_accuracy'],label='val_accuracy')\n",
        "plt.legend()\n",
        "plt.show()\n",
        "\n",
        "\n",
        "# Here we see that he_normal or he_uniform not give good result and most of case Xavier-Glorat give best result and also training faster"
      ],
      "metadata": {
        "id": "SNU5MNXUZa3_",
        "outputId": "a76d15ba-919b-47f8-ecc3-b475b625d950",
        "colab": {
          "base_uri": "https://localhost:8080/",
          "height": 1000
        }
      },
      "execution_count": 27,
      "outputs": [
        {
          "output_type": "display_data",
          "data": {
            "text/plain": [
              "\u001b[1mModel: \"sequential_13\"\u001b[0m\n"
            ],
            "text/html": [
              "<pre style=\"white-space:pre;overflow-x:auto;line-height:normal;font-family:Menlo,'DejaVu Sans Mono',consolas,'Courier New',monospace\"><span style=\"font-weight: bold\">Model: \"sequential_13\"</span>\n",
              "</pre>\n"
            ]
          },
          "metadata": {}
        },
        {
          "output_type": "display_data",
          "data": {
            "text/plain": [
              "┏━━━━━━━━━━━━━━━━━━━━━━━━━━━━━━━━━━━━━━┳━━━━━━━━━━━━━━━━━━━━━━━━━━━━━┳━━━━━━━━━━━━━━━━━┓\n",
              "┃\u001b[1m \u001b[0m\u001b[1mLayer (type)                        \u001b[0m\u001b[1m \u001b[0m┃\u001b[1m \u001b[0m\u001b[1mOutput Shape               \u001b[0m\u001b[1m \u001b[0m┃\u001b[1m \u001b[0m\u001b[1m        Param #\u001b[0m\u001b[1m \u001b[0m┃\n",
              "┡━━━━━━━━━━━━━━━━━━━━━━━━━━━━━━━━━━━━━━╇━━━━━━━━━━━━━━━━━━━━━━━━━━━━━╇━━━━━━━━━━━━━━━━━┩\n",
              "│ dense_73 (\u001b[38;5;33mDense\u001b[0m)                     │ (\u001b[38;5;45mNone\u001b[0m, \u001b[38;5;34m50\u001b[0m)                  │           \u001b[38;5;34m1,550\u001b[0m │\n",
              "├──────────────────────────────────────┼─────────────────────────────┼─────────────────┤\n",
              "│ dense_74 (\u001b[38;5;33mDense\u001b[0m)                     │ (\u001b[38;5;45mNone\u001b[0m, \u001b[38;5;34m25\u001b[0m)                  │           \u001b[38;5;34m1,275\u001b[0m │\n",
              "├──────────────────────────────────────┼─────────────────────────────┼─────────────────┤\n",
              "│ dense_75 (\u001b[38;5;33mDense\u001b[0m)                     │ (\u001b[38;5;45mNone\u001b[0m, \u001b[38;5;34m10\u001b[0m)                  │             \u001b[38;5;34m260\u001b[0m │\n",
              "├──────────────────────────────────────┼─────────────────────────────┼─────────────────┤\n",
              "│ dense_76 (\u001b[38;5;33mDense\u001b[0m)                     │ (\u001b[38;5;45mNone\u001b[0m, \u001b[38;5;34m5\u001b[0m)                   │              \u001b[38;5;34m55\u001b[0m │\n",
              "├──────────────────────────────────────┼─────────────────────────────┼─────────────────┤\n",
              "│ dense_77 (\u001b[38;5;33mDense\u001b[0m)                     │ (\u001b[38;5;45mNone\u001b[0m, \u001b[38;5;34m3\u001b[0m)                   │              \u001b[38;5;34m18\u001b[0m │\n",
              "├──────────────────────────────────────┼─────────────────────────────┼─────────────────┤\n",
              "│ dense_78 (\u001b[38;5;33mDense\u001b[0m)                     │ (\u001b[38;5;45mNone\u001b[0m, \u001b[38;5;34m2\u001b[0m)                   │               \u001b[38;5;34m8\u001b[0m │\n",
              "├──────────────────────────────────────┼─────────────────────────────┼─────────────────┤\n",
              "│ dense_79 (\u001b[38;5;33mDense\u001b[0m)                     │ (\u001b[38;5;45mNone\u001b[0m, \u001b[38;5;34m1\u001b[0m)                   │               \u001b[38;5;34m3\u001b[0m │\n",
              "└──────────────────────────────────────┴─────────────────────────────┴─────────────────┘\n"
            ],
            "text/html": [
              "<pre style=\"white-space:pre;overflow-x:auto;line-height:normal;font-family:Menlo,'DejaVu Sans Mono',consolas,'Courier New',monospace\">┏━━━━━━━━━━━━━━━━━━━━━━━━━━━━━━━━━━━━━━┳━━━━━━━━━━━━━━━━━━━━━━━━━━━━━┳━━━━━━━━━━━━━━━━━┓\n",
              "┃<span style=\"font-weight: bold\"> Layer (type)                         </span>┃<span style=\"font-weight: bold\"> Output Shape                </span>┃<span style=\"font-weight: bold\">         Param # </span>┃\n",
              "┡━━━━━━━━━━━━━━━━━━━━━━━━━━━━━━━━━━━━━━╇━━━━━━━━━━━━━━━━━━━━━━━━━━━━━╇━━━━━━━━━━━━━━━━━┩\n",
              "│ dense_73 (<span style=\"color: #0087ff; text-decoration-color: #0087ff\">Dense</span>)                     │ (<span style=\"color: #00d7ff; text-decoration-color: #00d7ff\">None</span>, <span style=\"color: #00af00; text-decoration-color: #00af00\">50</span>)                  │           <span style=\"color: #00af00; text-decoration-color: #00af00\">1,550</span> │\n",
              "├──────────────────────────────────────┼─────────────────────────────┼─────────────────┤\n",
              "│ dense_74 (<span style=\"color: #0087ff; text-decoration-color: #0087ff\">Dense</span>)                     │ (<span style=\"color: #00d7ff; text-decoration-color: #00d7ff\">None</span>, <span style=\"color: #00af00; text-decoration-color: #00af00\">25</span>)                  │           <span style=\"color: #00af00; text-decoration-color: #00af00\">1,275</span> │\n",
              "├──────────────────────────────────────┼─────────────────────────────┼─────────────────┤\n",
              "│ dense_75 (<span style=\"color: #0087ff; text-decoration-color: #0087ff\">Dense</span>)                     │ (<span style=\"color: #00d7ff; text-decoration-color: #00d7ff\">None</span>, <span style=\"color: #00af00; text-decoration-color: #00af00\">10</span>)                  │             <span style=\"color: #00af00; text-decoration-color: #00af00\">260</span> │\n",
              "├──────────────────────────────────────┼─────────────────────────────┼─────────────────┤\n",
              "│ dense_76 (<span style=\"color: #0087ff; text-decoration-color: #0087ff\">Dense</span>)                     │ (<span style=\"color: #00d7ff; text-decoration-color: #00d7ff\">None</span>, <span style=\"color: #00af00; text-decoration-color: #00af00\">5</span>)                   │              <span style=\"color: #00af00; text-decoration-color: #00af00\">55</span> │\n",
              "├──────────────────────────────────────┼─────────────────────────────┼─────────────────┤\n",
              "│ dense_77 (<span style=\"color: #0087ff; text-decoration-color: #0087ff\">Dense</span>)                     │ (<span style=\"color: #00d7ff; text-decoration-color: #00d7ff\">None</span>, <span style=\"color: #00af00; text-decoration-color: #00af00\">3</span>)                   │              <span style=\"color: #00af00; text-decoration-color: #00af00\">18</span> │\n",
              "├──────────────────────────────────────┼─────────────────────────────┼─────────────────┤\n",
              "│ dense_78 (<span style=\"color: #0087ff; text-decoration-color: #0087ff\">Dense</span>)                     │ (<span style=\"color: #00d7ff; text-decoration-color: #00d7ff\">None</span>, <span style=\"color: #00af00; text-decoration-color: #00af00\">2</span>)                   │               <span style=\"color: #00af00; text-decoration-color: #00af00\">8</span> │\n",
              "├──────────────────────────────────────┼─────────────────────────────┼─────────────────┤\n",
              "│ dense_79 (<span style=\"color: #0087ff; text-decoration-color: #0087ff\">Dense</span>)                     │ (<span style=\"color: #00d7ff; text-decoration-color: #00d7ff\">None</span>, <span style=\"color: #00af00; text-decoration-color: #00af00\">1</span>)                   │               <span style=\"color: #00af00; text-decoration-color: #00af00\">3</span> │\n",
              "└──────────────────────────────────────┴─────────────────────────────┴─────────────────┘\n",
              "</pre>\n"
            ]
          },
          "metadata": {}
        },
        {
          "output_type": "display_data",
          "data": {
            "text/plain": [
              "\u001b[1m Total params: \u001b[0m\u001b[38;5;34m3,169\u001b[0m (12.38 KB)\n"
            ],
            "text/html": [
              "<pre style=\"white-space:pre;overflow-x:auto;line-height:normal;font-family:Menlo,'DejaVu Sans Mono',consolas,'Courier New',monospace\"><span style=\"font-weight: bold\"> Total params: </span><span style=\"color: #00af00; text-decoration-color: #00af00\">3,169</span> (12.38 KB)\n",
              "</pre>\n"
            ]
          },
          "metadata": {}
        },
        {
          "output_type": "display_data",
          "data": {
            "text/plain": [
              "\u001b[1m Trainable params: \u001b[0m\u001b[38;5;34m3,169\u001b[0m (12.38 KB)\n"
            ],
            "text/html": [
              "<pre style=\"white-space:pre;overflow-x:auto;line-height:normal;font-family:Menlo,'DejaVu Sans Mono',consolas,'Courier New',monospace\"><span style=\"font-weight: bold\"> Trainable params: </span><span style=\"color: #00af00; text-decoration-color: #00af00\">3,169</span> (12.38 KB)\n",
              "</pre>\n"
            ]
          },
          "metadata": {}
        },
        {
          "output_type": "display_data",
          "data": {
            "text/plain": [
              "\u001b[1m Non-trainable params: \u001b[0m\u001b[38;5;34m0\u001b[0m (0.00 B)\n"
            ],
            "text/html": [
              "<pre style=\"white-space:pre;overflow-x:auto;line-height:normal;font-family:Menlo,'DejaVu Sans Mono',consolas,'Courier New',monospace\"><span style=\"font-weight: bold\"> Non-trainable params: </span><span style=\"color: #00af00; text-decoration-color: #00af00\">0</span> (0.00 B)\n",
              "</pre>\n"
            ]
          },
          "metadata": {}
        },
        {
          "output_type": "stream",
          "name": "stdout",
          "text": [
            "----- Modelweight without any weight inializationb -----\n",
            "[array([[ 0.24151197,  0.16064723,  0.03887979, ...,  0.16995   ,\n",
            "        -0.01070051, -0.0199596 ],\n",
            "       [ 0.12530926,  0.24760376, -0.04403018, ...,  0.18048115,\n",
            "        -0.26823053, -0.0510329 ],\n",
            "       [ 0.17229997, -0.18853131, -0.2618677 , ..., -0.2737274 ,\n",
            "         0.24022469, -0.11915492],\n",
            "       ...,\n",
            "       [-0.15982142, -0.05616759,  0.15033157, ...,  0.07079986,\n",
            "        -0.11735085,  0.03594643],\n",
            "       [ 0.07995784, -0.13484001, -0.16255908, ..., -0.12406345,\n",
            "         0.2666529 , -0.13562575],\n",
            "       [-0.01671211, -0.04369436,  0.02987057, ...,  0.10074233,\n",
            "         0.26394135, -0.08498213]], dtype=float32), array([ 0.09866002,  0.00662478, -0.15828003,  0.        ,  0.        ,\n",
            "        0.13176642,  0.        , -0.10762605,  0.00350968,  0.        ,\n",
            "        0.16012524,  0.        , -0.00578785, -0.0640063 ,  0.        ,\n",
            "        0.        ,  0.15231675,  0.08791675, -0.03710872,  0.10290723,\n",
            "       -0.13443516,  0.        , -0.17971766, -0.00121875, -0.1401195 ,\n",
            "       -0.15694866,  0.        , -0.01146976,  0.        ,  0.        ,\n",
            "       -0.04034412,  0.        , -0.00026693,  0.        ,  0.        ,\n",
            "        0.        ,  0.1267072 ,  0.        ,  0.        ,  0.        ,\n",
            "       -0.13850546,  0.        ,  0.09891385, -0.09706151, -0.0076628 ,\n",
            "        0.        ,  0.20532954, -0.00939782, -0.05567619,  0.        ],\n",
            "      dtype=float32), array([[ 0.2773405 ,  0.11696926, -0.22585063, ..., -0.248717  ,\n",
            "         0.03871226,  0.02156672],\n",
            "       [ 0.20008627,  0.18900159,  0.19151814, ..., -0.09335224,\n",
            "        -0.2671246 , -0.10830526],\n",
            "       [ 0.13677779,  0.01365691, -0.00635933, ..., -0.08211157,\n",
            "        -0.24507645,  0.07804039],\n",
            "       ...,\n",
            "       [ 0.11036411,  0.22469403, -0.192284  , ...,  0.1900065 ,\n",
            "        -0.16851774, -0.19183823],\n",
            "       [ 0.1217176 , -0.02055003, -0.01861518, ..., -0.16996193,\n",
            "        -0.0664929 , -0.02756891],\n",
            "       [ 0.24424943, -0.12744385, -0.1179544 , ...,  0.18187034,\n",
            "        -0.00396174, -0.05008826]], dtype=float32), array([ 0.        ,  0.15323627, -0.06023424,  0.        ,  0.07462998,\n",
            "       -0.14777352,  0.        ,  0.07485858,  0.13263735,  0.05916188,\n",
            "        0.        , -0.10042527,  0.        ,  0.        ,  0.        ,\n",
            "       -0.08143908, -0.00485841, -0.09341162, -0.12453484, -0.0907799 ,\n",
            "       -0.00114122,  0.00986325,  0.        ,  0.        ,  0.        ],\n",
            "      dtype=float32), array([[-0.19247031, -0.1777717 ,  0.08325842, -0.11825642, -0.40574357,\n",
            "        -0.12435681, -0.03325135,  0.1349068 ,  0.26241872,  0.32941523],\n",
            "       [-0.0470562 , -0.24405938,  0.1134543 , -0.3023642 ,  0.22840197,\n",
            "         0.23252371,  0.10411724,  0.21965882,  0.1250161 , -0.17963554],\n",
            "       [-0.1548076 , -0.36953962,  0.1673384 ,  0.18619299, -0.11687625,\n",
            "        -0.32414246,  0.20496729, -0.03333032, -0.18084669, -0.08168092],\n",
            "       [-0.24671097, -0.12590265, -0.11915928,  0.17435202,  0.20632681,\n",
            "         0.31155494,  0.40067306, -0.32141063, -0.10301262, -0.34915608],\n",
            "       [-0.1751373 , -0.20759906,  0.17433962,  0.02677355,  0.19224438,\n",
            "        -0.3177738 ,  0.21657267, -0.29349145,  0.16096534, -0.358147  ],\n",
            "       [-0.3009597 , -0.27288604,  0.14102258, -0.00387767, -0.26573202,\n",
            "         0.36637565, -0.16191626,  0.19565573,  0.2892918 ,  0.3791847 ],\n",
            "       [-0.29637343,  0.14889303,  0.2330468 ,  0.0897707 , -0.01930711,\n",
            "         0.33736745, -0.19217476,  0.34569868,  0.13181952,  0.22498623],\n",
            "       [ 0.30522558, -0.21052392,  0.20321068,  0.03570397,  0.39254937,\n",
            "        -0.39454883, -0.40974674, -0.21331333,  0.11762826,  0.27350935],\n",
            "       [ 0.40799615,  0.37669224, -0.03740423, -0.09426597,  0.31254536,\n",
            "        -0.16507196,  0.27751055,  0.02347365, -0.08374211, -0.24932162],\n",
            "       [-0.19114369,  0.2856679 , -0.1781643 ,  0.04749664,  0.21772684,\n",
            "         0.07934025, -0.36023816,  0.18124065, -0.24745567,  0.1633889 ],\n",
            "       [-0.20704159,  0.14596674, -0.03111783, -0.27152714,  0.29026684,\n",
            "        -0.36353296,  0.27377066,  0.31734642,  0.3591995 , -0.3243473 ],\n",
            "       [ 0.09931079,  0.22677374, -0.35898116, -0.2633628 , -0.27998388,\n",
            "        -0.18497935,  0.0486224 ,  0.3473656 ,  0.3343321 , -0.10100435],\n",
            "       [-0.12848693, -0.26405987, -0.13174173, -0.09894094, -0.05937451,\n",
            "         0.06559807, -0.34166008,  0.37709787,  0.18745336, -0.10058066],\n",
            "       [-0.01531202, -0.30352056, -0.2836743 , -0.00057065,  0.16049495,\n",
            "         0.20420918, -0.0085932 ,  0.04617202, -0.21668503, -0.32486436],\n",
            "       [-0.3601747 , -0.02412289,  0.40919396,  0.16815701,  0.01402766,\n",
            "         0.41356096,  0.41055688, -0.27890855, -0.2977652 ,  0.18183956],\n",
            "       [-0.3989507 ,  0.34770817, -0.32215613, -0.20096718, -0.3323218 ,\n",
            "         0.11179587, -0.33464786,  0.21093777, -0.31670764,  0.31741953],\n",
            "       [ 0.16513225,  0.3853412 , -0.0028113 ,  0.08912167,  0.15898688,\n",
            "         0.21111289, -0.19821936, -0.28287005, -0.38188007, -0.2931317 ],\n",
            "       [ 0.09292701, -0.21090683,  0.21265326,  0.39331883, -0.2694045 ,\n",
            "        -0.04054675, -0.1726412 , -0.25264934, -0.19149172,  0.14047125],\n",
            "       [ 0.09334353,  0.13497207,  0.09487867, -0.03800762, -0.37843165,\n",
            "        -0.271554  , -0.15703431, -0.3086245 ,  0.02120421,  0.2605129 ],\n",
            "       [-0.36914292, -0.15475817,  0.0935915 , -0.02810209, -0.20027186,\n",
            "         0.39762267, -0.00345668, -0.07218519, -0.25548798,  0.05292749],\n",
            "       [-0.15390152, -0.08110732, -0.08729995, -0.35012287,  0.2275249 ,\n",
            "        -0.2579885 , -0.2287209 ,  0.3845515 , -0.07727161, -0.04050184],\n",
            "       [-0.02720141,  0.06227574,  0.184572  , -0.12952006,  0.16359097,\n",
            "        -0.30128223,  0.09068194,  0.33081803,  0.12860934, -0.19114543],\n",
            "       [-0.29614627, -0.14660156, -0.18099621,  0.35786703, -0.29328108,\n",
            "         0.26743385, -0.18939783, -0.07971713,  0.13208267, -0.03528211],\n",
            "       [ 0.10151914, -0.24863116, -0.3459658 , -0.23701896,  0.22674969,\n",
            "         0.39260283,  0.39205799, -0.3973991 , -0.20590736,  0.30050752],\n",
            "       [ 0.17894337,  0.04601881,  0.25629607, -0.19731562,  0.30657193,\n",
            "        -0.35654122,  0.07266593, -0.06118828,  0.3780761 , -0.00118044]],\n",
            "      dtype=float32), array([ 0.        , -0.00579751, -0.04987256, -0.00932612,  0.09516245,\n",
            "        0.        ,  0.        ,  0.        , -0.02107332, -0.02189509],\n",
            "      dtype=float32), array([[-0.37137768,  0.48575538, -0.5929168 ,  0.39568955,  0.41434854],\n",
            "       [-0.5938623 , -0.04992598,  0.52413064, -0.49362004,  0.37374187],\n",
            "       [ 0.20092258,  0.29308262, -0.36963445,  0.12902597, -0.10634317],\n",
            "       [ 0.3593112 ,  0.13864022, -0.2002157 , -0.2050806 , -0.46912464],\n",
            "       [-0.6058009 , -0.47688732,  0.13378565,  0.42662495,  0.3971145 ],\n",
            "       [ 0.49646348,  0.0337733 , -0.6252718 ,  0.18718845,  0.19265693],\n",
            "       [ 0.0627057 ,  0.62184757, -0.5055114 , -0.52328074, -0.16218233],\n",
            "       [-0.5931302 ,  0.26628035, -0.5409303 , -0.52049804, -0.5954594 ],\n",
            "       [ 0.17558149, -0.3387832 ,  0.59982497,  0.27165258, -0.5803628 ],\n",
            "       [ 0.11215995, -0.45427692,  0.5322862 ,  0.46026912, -0.00998662]],\n",
            "      dtype=float32), array([-0.06272849, -0.07457193,  0.01088698, -0.10464092,  0.10690916],\n",
            "      dtype=float32), array([[-0.39544284, -0.20170839,  0.49591044],\n",
            "       [-0.6730054 ,  0.22480261,  0.43598294],\n",
            "       [ 0.03011101,  0.39242947, -0.37499532],\n",
            "       [ 0.05914273,  0.01696585,  0.15616441],\n",
            "       [ 0.55673075,  0.56625324, -0.76923025]], dtype=float32), array([-0.05068545,  0.07153434, -0.09353422], dtype=float32), array([[ 0.8800689 , -0.7677294 ],\n",
            "       [-1.0573498 ,  0.47952208],\n",
            "       [ 0.9758162 , -0.48870128]], dtype=float32), array([-0.15784104, -0.05207519], dtype=float32), array([[-0.16281216],\n",
            "       [-1.2223779 ]], dtype=float32), array([1.1164585], dtype=float32)]\n"
          ]
        },
        {
          "output_type": "display_data",
          "data": {
            "text/plain": [
              "<Figure size 640x480 with 1 Axes>"
            ],
            "image/png": "[encoded data removed]"
          },
          "metadata": {}
        }
      ]
    },
    {
      "cell_type": "code",
      "source": [
        "# Another way to initialize the kernal\n",
        "\n",
        "from tensorflow.keras.initializers import VarianceScaling\n",
        "\n",
        "K_I = VarianceScaling(scale=1,mode='fan_in',distribution='uniform')\n",
        "'''\n",
        "   distribution : uniform (value spred evenly over range)\n",
        "                  truncate_normal (full normal distribution)\n",
        "                  untruncate_normal (Value near 0 are more likely)\n",
        "   mode : fan_in or fan_out or fan_avg\n",
        "   scale : scaling factor  (1 give batter )\n",
        "   type : float32\n",
        "   seed : None\n",
        "'''\n",
        "# Here we try scalling factor  = 3 it's give 60 % accuracy and when try the 1 it's give around 90% accuracy\n",
        "from re import VERBOSE\n",
        "# Design the neural network  with kernal initalization\n",
        "\n",
        "model2 = Sequential()\n",
        "model2.add(Dense(50,activation='relu',input_dim = X_train.shape[1],kernel_initializer = K_I))\n",
        "model2.add(Dense(25,activation='relu',kernel_initializer = K_I))\n",
        "model2.add(Dense(10,activation='relu',kernel_initializer = K_I))\n",
        "model2.add(Dense(5,activation='relu',kernel_initializer = K_I))\n",
        "model2.add(Dense(3,activation='relu',kernel_initializer = K_I))\n",
        "model2.add(Dense(2,activation='relu',kernel_initializer = K_I))\n",
        "model2.add(Dense(1,activation='sigmoid'))\n",
        "\n",
        "model2.compile(loss='mean_squared_error',optimizer='adam',metrics=['accuracy'])\n",
        "model2.summary()\n",
        "\n",
        "hisory2 = model2.fit(X_train,y_train,epochs=100,batch_size=32,validation_data=(X_test,y_test),verbose=False)\n",
        "print('----- Modelweight without any weight inializationb -----')\n",
        "print(model.get_weights())\n",
        "\n",
        "plt.plot(hisory2.history['accuracy'],label='accuracy')\n",
        "plt.plot(hisory2.history['val_accuracy'],label='val_accuracy')\n",
        "plt.legend()\n",
        "plt.show()\n",
        "\n"
      ],
      "metadata": {
        "id": "-al00166bNtY",
        "outputId": "5aca39c4-9c3e-492f-906a-acdd14f0d540",
        "colab": {
          "base_uri": "https://localhost:8080/",
          "height": 1000
        }
      },
      "execution_count": 29,
      "outputs": [
        {
          "output_type": "stream",
          "name": "stderr",
          "text": [
            "/usr/local/lib/python3.10/dist-packages/keras/src/layers/core/dense.py:87: UserWarning: Do not pass an `input_shape`/`input_dim` argument to a layer. When using Sequential models, prefer using an `Input(shape)` object as the first layer in the model instead.\n",
            "  super().__init__(activity_regularizer=activity_regularizer, **kwargs)\n"
          ]
        },
        {
          "output_type": "display_data",
          "data": {
            "text/plain": [
              "\u001b[1mModel: \"sequential_15\"\u001b[0m\n"
            ],
            "text/html": [
              "<pre style=\"white-space:pre;overflow-x:auto;line-height:normal;font-family:Menlo,'DejaVu Sans Mono',consolas,'Courier New',monospace\"><span style=\"font-weight: bold\">Model: \"sequential_15\"</span>\n",
              "</pre>\n"
            ]
          },
          "metadata": {}
        },
        {
          "output_type": "display_data",
          "data": {
            "text/plain": [
              "┏━━━━━━━━━━━━━━━━━━━━━━━━━━━━━━━━━━━━━━┳━━━━━━━━━━━━━━━━━━━━━━━━━━━━━┳━━━━━━━━━━━━━━━━━┓\n",
              "┃\u001b[1m \u001b[0m\u001b[1mLayer (type)                        \u001b[0m\u001b[1m \u001b[0m┃\u001b[1m \u001b[0m\u001b[1mOutput Shape               \u001b[0m\u001b[1m \u001b[0m┃\u001b[1m \u001b[0m\u001b[1m        Param #\u001b[0m\u001b[1m \u001b[0m┃\n",
              "┡━━━━━━━━━━━━━━━━━━━━━━━━━━━━━━━━━━━━━━╇━━━━━━━━━━━━━━━━━━━━━━━━━━━━━╇━━━━━━━━━━━━━━━━━┩\n",
              "│ dense_87 (\u001b[38;5;33mDense\u001b[0m)                     │ (\u001b[38;5;45mNone\u001b[0m, \u001b[38;5;34m50\u001b[0m)                  │           \u001b[38;5;34m1,550\u001b[0m │\n",
              "├──────────────────────────────────────┼─────────────────────────────┼─────────────────┤\n",
              "│ dense_88 (\u001b[38;5;33mDense\u001b[0m)                     │ (\u001b[38;5;45mNone\u001b[0m, \u001b[38;5;34m25\u001b[0m)                  │           \u001b[38;5;34m1,275\u001b[0m │\n",
              "├──────────────────────────────────────┼─────────────────────────────┼─────────────────┤\n",
              "│ dense_89 (\u001b[38;5;33mDense\u001b[0m)                     │ (\u001b[38;5;45mNone\u001b[0m, \u001b[38;5;34m10\u001b[0m)                  │             \u001b[38;5;34m260\u001b[0m │\n",
              "├──────────────────────────────────────┼─────────────────────────────┼─────────────────┤\n",
              "│ dense_90 (\u001b[38;5;33mDense\u001b[0m)                     │ (\u001b[38;5;45mNone\u001b[0m, \u001b[38;5;34m5\u001b[0m)                   │              \u001b[38;5;34m55\u001b[0m │\n",
              "├──────────────────────────────────────┼─────────────────────────────┼─────────────────┤\n",
              "│ dense_91 (\u001b[38;5;33mDense\u001b[0m)                     │ (\u001b[38;5;45mNone\u001b[0m, \u001b[38;5;34m3\u001b[0m)                   │              \u001b[38;5;34m18\u001b[0m │\n",
              "├──────────────────────────────────────┼─────────────────────────────┼─────────────────┤\n",
              "│ dense_92 (\u001b[38;5;33mDense\u001b[0m)                     │ (\u001b[38;5;45mNone\u001b[0m, \u001b[38;5;34m2\u001b[0m)                   │               \u001b[38;5;34m8\u001b[0m │\n",
              "├──────────────────────────────────────┼─────────────────────────────┼─────────────────┤\n",
              "│ dense_93 (\u001b[38;5;33mDense\u001b[0m)                     │ (\u001b[38;5;45mNone\u001b[0m, \u001b[38;5;34m1\u001b[0m)                   │               \u001b[38;5;34m3\u001b[0m │\n",
              "└──────────────────────────────────────┴─────────────────────────────┴─────────────────┘\n"
            ],
            "text/html": [
              "<pre style=\"white-space:pre;overflow-x:auto;line-height:normal;font-family:Menlo,'DejaVu Sans Mono',consolas,'Courier New',monospace\">┏━━━━━━━━━━━━━━━━━━━━━━━━━━━━━━━━━━━━━━┳━━━━━━━━━━━━━━━━━━━━━━━━━━━━━┳━━━━━━━━━━━━━━━━━┓\n",
              "┃<span style=\"font-weight: bold\"> Layer (type)                         </span>┃<span style=\"font-weight: bold\"> Output Shape                </span>┃<span style=\"font-weight: bold\">         Param # </span>┃\n",
              "┡━━━━━━━━━━━━━━━━━━━━━━━━━━━━━━━━━━━━━━╇━━━━━━━━━━━━━━━━━━━━━━━━━━━━━╇━━━━━━━━━━━━━━━━━┩\n",
              "│ dense_87 (<span style=\"color: #0087ff; text-decoration-color: #0087ff\">Dense</span>)                     │ (<span style=\"color: #00d7ff; text-decoration-color: #00d7ff\">None</span>, <span style=\"color: #00af00; text-decoration-color: #00af00\">50</span>)                  │           <span style=\"color: #00af00; text-decoration-color: #00af00\">1,550</span> │\n",
              "├──────────────────────────────────────┼─────────────────────────────┼─────────────────┤\n",
              "│ dense_88 (<span style=\"color: #0087ff; text-decoration-color: #0087ff\">Dense</span>)                     │ (<span style=\"color: #00d7ff; text-decoration-color: #00d7ff\">None</span>, <span style=\"color: #00af00; text-decoration-color: #00af00\">25</span>)                  │           <span style=\"color: #00af00; text-decoration-color: #00af00\">1,275</span> │\n",
              "├──────────────────────────────────────┼─────────────────────────────┼─────────────────┤\n",
              "│ dense_89 (<span style=\"color: #0087ff; text-decoration-color: #0087ff\">Dense</span>)                     │ (<span style=\"color: #00d7ff; text-decoration-color: #00d7ff\">None</span>, <span style=\"color: #00af00; text-decoration-color: #00af00\">10</span>)                  │             <span style=\"color: #00af00; text-decoration-color: #00af00\">260</span> │\n",
              "├──────────────────────────────────────┼─────────────────────────────┼─────────────────┤\n",
              "│ dense_90 (<span style=\"color: #0087ff; text-decoration-color: #0087ff\">Dense</span>)                     │ (<span style=\"color: #00d7ff; text-decoration-color: #00d7ff\">None</span>, <span style=\"color: #00af00; text-decoration-color: #00af00\">5</span>)                   │              <span style=\"color: #00af00; text-decoration-color: #00af00\">55</span> │\n",
              "├──────────────────────────────────────┼─────────────────────────────┼─────────────────┤\n",
              "│ dense_91 (<span style=\"color: #0087ff; text-decoration-color: #0087ff\">Dense</span>)                     │ (<span style=\"color: #00d7ff; text-decoration-color: #00d7ff\">None</span>, <span style=\"color: #00af00; text-decoration-color: #00af00\">3</span>)                   │              <span style=\"color: #00af00; text-decoration-color: #00af00\">18</span> │\n",
              "├──────────────────────────────────────┼─────────────────────────────┼─────────────────┤\n",
              "│ dense_92 (<span style=\"color: #0087ff; text-decoration-color: #0087ff\">Dense</span>)                     │ (<span style=\"color: #00d7ff; text-decoration-color: #00d7ff\">None</span>, <span style=\"color: #00af00; text-decoration-color: #00af00\">2</span>)                   │               <span style=\"color: #00af00; text-decoration-color: #00af00\">8</span> │\n",
              "├──────────────────────────────────────┼─────────────────────────────┼─────────────────┤\n",
              "│ dense_93 (<span style=\"color: #0087ff; text-decoration-color: #0087ff\">Dense</span>)                     │ (<span style=\"color: #00d7ff; text-decoration-color: #00d7ff\">None</span>, <span style=\"color: #00af00; text-decoration-color: #00af00\">1</span>)                   │               <span style=\"color: #00af00; text-decoration-color: #00af00\">3</span> │\n",
              "└──────────────────────────────────────┴─────────────────────────────┴─────────────────┘\n",
              "</pre>\n"
            ]
          },
          "metadata": {}
        },
        {
          "output_type": "display_data",
          "data": {
            "text/plain": [
              "\u001b[1m Total params: \u001b[0m\u001b[38;5;34m3,169\u001b[0m (12.38 KB)\n"
            ],
            "text/html": [
              "<pre style=\"white-space:pre;overflow-x:auto;line-height:normal;font-family:Menlo,'DejaVu Sans Mono',consolas,'Courier New',monospace\"><span style=\"font-weight: bold\"> Total params: </span><span style=\"color: #00af00; text-decoration-color: #00af00\">3,169</span> (12.38 KB)\n",
              "</pre>\n"
            ]
          },
          "metadata": {}
        },
        {
          "output_type": "display_data",
          "data": {
            "text/plain": [
              "\u001b[1m Trainable params: \u001b[0m\u001b[38;5;34m3,169\u001b[0m (12.38 KB)\n"
            ],
            "text/html": [
              "<pre style=\"white-space:pre;overflow-x:auto;line-height:normal;font-family:Menlo,'DejaVu Sans Mono',consolas,'Courier New',monospace\"><span style=\"font-weight: bold\"> Trainable params: </span><span style=\"color: #00af00; text-decoration-color: #00af00\">3,169</span> (12.38 KB)\n",
              "</pre>\n"
            ]
          },
          "metadata": {}
        },
        {
          "output_type": "display_data",
          "data": {
            "text/plain": [
              "\u001b[1m Non-trainable params: \u001b[0m\u001b[38;5;34m0\u001b[0m (0.00 B)\n"
            ],
            "text/html": [
              "<pre style=\"white-space:pre;overflow-x:auto;line-height:normal;font-family:Menlo,'DejaVu Sans Mono',consolas,'Courier New',monospace\"><span style=\"font-weight: bold\"> Non-trainable params: </span><span style=\"color: #00af00; text-decoration-color: #00af00\">0</span> (0.00 B)\n",
              "</pre>\n"
            ]
          },
          "metadata": {}
        },
        {
          "output_type": "stream",
          "name": "stdout",
          "text": [
            "----- Modelweight without any weight inializationb -----\n",
            "[array([[ 0.24151197,  0.16064723,  0.03887979, ...,  0.16995   ,\n",
            "        -0.01070051, -0.0199596 ],\n",
            "       [ 0.12530926,  0.24760376, -0.04403018, ...,  0.18048115,\n",
            "        -0.26823053, -0.0510329 ],\n",
            "       [ 0.17229997, -0.18853131, -0.2618677 , ..., -0.2737274 ,\n",
            "         0.24022469, -0.11915492],\n",
            "       ...,\n",
            "       [-0.15982142, -0.05616759,  0.15033157, ...,  0.07079986,\n",
            "        -0.11735085,  0.03594643],\n",
            "       [ 0.07995784, -0.13484001, -0.16255908, ..., -0.12406345,\n",
            "         0.2666529 , -0.13562575],\n",
            "       [-0.01671211, -0.04369436,  0.02987057, ...,  0.10074233,\n",
            "         0.26394135, -0.08498213]], dtype=float32), array([ 0.09866002,  0.00662478, -0.15828003,  0.        ,  0.        ,\n",
            "        0.13176642,  0.        , -0.10762605,  0.00350968,  0.        ,\n",
            "        0.16012524,  0.        , -0.00578785, -0.0640063 ,  0.        ,\n",
            "        0.        ,  0.15231675,  0.08791675, -0.03710872,  0.10290723,\n",
            "       -0.13443516,  0.        , -0.17971766, -0.00121875, -0.1401195 ,\n",
            "       -0.15694866,  0.        , -0.01146976,  0.        ,  0.        ,\n",
            "       -0.04034412,  0.        , -0.00026693,  0.        ,  0.        ,\n",
            "        0.        ,  0.1267072 ,  0.        ,  0.        ,  0.        ,\n",
            "       -0.13850546,  0.        ,  0.09891385, -0.09706151, -0.0076628 ,\n",
            "        0.        ,  0.20532954, -0.00939782, -0.05567619,  0.        ],\n",
            "      dtype=float32), array([[ 0.2773405 ,  0.11696926, -0.22585063, ..., -0.248717  ,\n",
            "         0.03871226,  0.02156672],\n",
            "       [ 0.20008627,  0.18900159,  0.19151814, ..., -0.09335224,\n",
            "        -0.2671246 , -0.10830526],\n",
            "       [ 0.13677779,  0.01365691, -0.00635933, ..., -0.08211157,\n",
            "        -0.24507645,  0.07804039],\n",
            "       ...,\n",
            "       [ 0.11036411,  0.22469403, -0.192284  , ...,  0.1900065 ,\n",
            "        -0.16851774, -0.19183823],\n",
            "       [ 0.1217176 , -0.02055003, -0.01861518, ..., -0.16996193,\n",
            "        -0.0664929 , -0.02756891],\n",
            "       [ 0.24424943, -0.12744385, -0.1179544 , ...,  0.18187034,\n",
            "        -0.00396174, -0.05008826]], dtype=float32), array([ 0.        ,  0.15323627, -0.06023424,  0.        ,  0.07462998,\n",
            "       -0.14777352,  0.        ,  0.07485858,  0.13263735,  0.05916188,\n",
            "        0.        , -0.10042527,  0.        ,  0.        ,  0.        ,\n",
            "       -0.08143908, -0.00485841, -0.09341162, -0.12453484, -0.0907799 ,\n",
            "       -0.00114122,  0.00986325,  0.        ,  0.        ,  0.        ],\n",
            "      dtype=float32), array([[-0.19247031, -0.1777717 ,  0.08325842, -0.11825642, -0.40574357,\n",
            "        -0.12435681, -0.03325135,  0.1349068 ,  0.26241872,  0.32941523],\n",
            "       [-0.0470562 , -0.24405938,  0.1134543 , -0.3023642 ,  0.22840197,\n",
            "         0.23252371,  0.10411724,  0.21965882,  0.1250161 , -0.17963554],\n",
            "       [-0.1548076 , -0.36953962,  0.1673384 ,  0.18619299, -0.11687625,\n",
            "        -0.32414246,  0.20496729, -0.03333032, -0.18084669, -0.08168092],\n",
            "       [-0.24671097, -0.12590265, -0.11915928,  0.17435202,  0.20632681,\n",
            "         0.31155494,  0.40067306, -0.32141063, -0.10301262, -0.34915608],\n",
            "       [-0.1751373 , -0.20759906,  0.17433962,  0.02677355,  0.19224438,\n",
            "        -0.3177738 ,  0.21657267, -0.29349145,  0.16096534, -0.358147  ],\n",
            "       [-0.3009597 , -0.27288604,  0.14102258, -0.00387767, -0.26573202,\n",
            "         0.36637565, -0.16191626,  0.19565573,  0.2892918 ,  0.3791847 ],\n",
            "       [-0.29637343,  0.14889303,  0.2330468 ,  0.0897707 , -0.01930711,\n",
            "         0.33736745, -0.19217476,  0.34569868,  0.13181952,  0.22498623],\n",
            "       [ 0.30522558, -0.21052392,  0.20321068,  0.03570397,  0.39254937,\n",
            "        -0.39454883, -0.40974674, -0.21331333,  0.11762826,  0.27350935],\n",
            "       [ 0.40799615,  0.37669224, -0.03740423, -0.09426597,  0.31254536,\n",
            "        -0.16507196,  0.27751055,  0.02347365, -0.08374211, -0.24932162],\n",
            "       [-0.19114369,  0.2856679 , -0.1781643 ,  0.04749664,  0.21772684,\n",
            "         0.07934025, -0.36023816,  0.18124065, -0.24745567,  0.1633889 ],\n",
            "       [-0.20704159,  0.14596674, -0.03111783, -0.27152714,  0.29026684,\n",
            "        -0.36353296,  0.27377066,  0.31734642,  0.3591995 , -0.3243473 ],\n",
            "       [ 0.09931079,  0.22677374, -0.35898116, -0.2633628 , -0.27998388,\n",
            "        -0.18497935,  0.0486224 ,  0.3473656 ,  0.3343321 , -0.10100435],\n",
            "       [-0.12848693, -0.26405987, -0.13174173, -0.09894094, -0.05937451,\n",
            "         0.06559807, -0.34166008,  0.37709787,  0.18745336, -0.10058066],\n",
            "       [-0.01531202, -0.30352056, -0.2836743 , -0.00057065,  0.16049495,\n",
            "         0.20420918, -0.0085932 ,  0.04617202, -0.21668503, -0.32486436],\n",
            "       [-0.3601747 , -0.02412289,  0.40919396,  0.16815701,  0.01402766,\n",
            "         0.41356096,  0.41055688, -0.27890855, -0.2977652 ,  0.18183956],\n",
            "       [-0.3989507 ,  0.34770817, -0.32215613, -0.20096718, -0.3323218 ,\n",
            "         0.11179587, -0.33464786,  0.21093777, -0.31670764,  0.31741953],\n",
            "       [ 0.16513225,  0.3853412 , -0.0028113 ,  0.08912167,  0.15898688,\n",
            "         0.21111289, -0.19821936, -0.28287005, -0.38188007, -0.2931317 ],\n",
            "       [ 0.09292701, -0.21090683,  0.21265326,  0.39331883, -0.2694045 ,\n",
            "        -0.04054675, -0.1726412 , -0.25264934, -0.19149172,  0.14047125],\n",
            "       [ 0.09334353,  0.13497207,  0.09487867, -0.03800762, -0.37843165,\n",
            "        -0.271554  , -0.15703431, -0.3086245 ,  0.02120421,  0.2605129 ],\n",
            "       [-0.36914292, -0.15475817,  0.0935915 , -0.02810209, -0.20027186,\n",
            "         0.39762267, -0.00345668, -0.07218519, -0.25548798,  0.05292749],\n",
            "       [-0.15390152, -0.08110732, -0.08729995, -0.35012287,  0.2275249 ,\n",
            "        -0.2579885 , -0.2287209 ,  0.3845515 , -0.07727161, -0.04050184],\n",
            "       [-0.02720141,  0.06227574,  0.184572  , -0.12952006,  0.16359097,\n",
            "        -0.30128223,  0.09068194,  0.33081803,  0.12860934, -0.19114543],\n",
            "       [-0.29614627, -0.14660156, -0.18099621,  0.35786703, -0.29328108,\n",
            "         0.26743385, -0.18939783, -0.07971713,  0.13208267, -0.03528211],\n",
            "       [ 0.10151914, -0.24863116, -0.3459658 , -0.23701896,  0.22674969,\n",
            "         0.39260283,  0.39205799, -0.3973991 , -0.20590736,  0.30050752],\n",
            "       [ 0.17894337,  0.04601881,  0.25629607, -0.19731562,  0.30657193,\n",
            "        -0.35654122,  0.07266593, -0.06118828,  0.3780761 , -0.00118044]],\n",
            "      dtype=float32), array([ 0.        , -0.00579751, -0.04987256, -0.00932612,  0.09516245,\n",
            "        0.        ,  0.        ,  0.        , -0.02107332, -0.02189509],\n",
            "      dtype=float32), array([[-0.37137768,  0.48575538, -0.5929168 ,  0.39568955,  0.41434854],\n",
            "       [-0.5938623 , -0.04992598,  0.52413064, -0.49362004,  0.37374187],\n",
            "       [ 0.20092258,  0.29308262, -0.36963445,  0.12902597, -0.10634317],\n",
            "       [ 0.3593112 ,  0.13864022, -0.2002157 , -0.2050806 , -0.46912464],\n",
            "       [-0.6058009 , -0.47688732,  0.13378565,  0.42662495,  0.3971145 ],\n",
            "       [ 0.49646348,  0.0337733 , -0.6252718 ,  0.18718845,  0.19265693],\n",
            "       [ 0.0627057 ,  0.62184757, -0.5055114 , -0.52328074, -0.16218233],\n",
            "       [-0.5931302 ,  0.26628035, -0.5409303 , -0.52049804, -0.5954594 ],\n",
            "       [ 0.17558149, -0.3387832 ,  0.59982497,  0.27165258, -0.5803628 ],\n",
            "       [ 0.11215995, -0.45427692,  0.5322862 ,  0.46026912, -0.00998662]],\n",
            "      dtype=float32), array([-0.06272849, -0.07457193,  0.01088698, -0.10464092,  0.10690916],\n",
            "      dtype=float32), array([[-0.39544284, -0.20170839,  0.49591044],\n",
            "       [-0.6730054 ,  0.22480261,  0.43598294],\n",
            "       [ 0.03011101,  0.39242947, -0.37499532],\n",
            "       [ 0.05914273,  0.01696585,  0.15616441],\n",
            "       [ 0.55673075,  0.56625324, -0.76923025]], dtype=float32), array([-0.05068545,  0.07153434, -0.09353422], dtype=float32), array([[ 0.8800689 , -0.7677294 ],\n",
            "       [-1.0573498 ,  0.47952208],\n",
            "       [ 0.9758162 , -0.48870128]], dtype=float32), array([-0.15784104, -0.05207519], dtype=float32), array([[-0.16281216],\n",
            "       [-1.2223779 ]], dtype=float32), array([1.1164585], dtype=float32)]\n"
          ]
        },
        {
          "output_type": "display_data",
          "data": {
            "text/plain": [
              "<Figure size 640x480 with 1 Axes>"
            ],
            "image/png": "[encoded data removed]"
          },
          "metadata": {}
        }
      ]
    },
    {
      "cell_type": "code",
      "source": [],
      "metadata": {
        "id": "0S6toZFzebAm"
      },
      "execution_count": null,
      "outputs": []
    }
  ],
  "metadata": {
    "colab": {
      "name": "Welcome To Colab",
      "provenance": []
    },
    "kernelspec": {
      "display_name": "Python 3",
      "name": "python3"
    }
  },
  "nbformat": 4,
  "nbformat_minor": 0
}